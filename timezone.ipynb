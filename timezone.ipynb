{
  "nbformat": 4,
  "nbformat_minor": 0,
  "metadata": {
    "colab": {
      "name": "timezone.ipynb",
      "provenance": [],
      "authorship_tag": "ABX9TyM9Hao4OeHi+kQcJ04l0Hz+",
      "include_colab_link": true
    },
    "kernelspec": {
      "name": "python3",
      "display_name": "Python 3"
    }
  },
  "cells": [
    {
      "cell_type": "markdown",
      "metadata": {
        "id": "view-in-github",
        "colab_type": "text"
      },
      "source": [
        "<a href=\"https://colab.research.google.com/github/rizwannitk/airporttimezone/blob/main/timezone.ipynb\" target=\"_parent\"><img src=\"https://colab.research.google.com/assets/colab-badge.svg\" alt=\"Open In Colab\"/></a>"
      ]
    },
    {
      "cell_type": "markdown",
      "metadata": {
        "id": "CAdew_6TeaR3"
      },
      "source": [
        "To Get the timezone and offset of UTC time for Airports"
      ]
    },
    {
      "cell_type": "code",
      "metadata": {
        "id": "leWMyO5nhU8p"
      },
      "source": [
        "pip install tzwhere"
      ],
      "execution_count": null,
      "outputs": []
    },
    {
      "cell_type": "code",
      "metadata": {
        "id": "S7scDMCBd153"
      },
      "source": [
        "pip install timezonefinder"
      ],
      "execution_count": null,
      "outputs": []
    },
    {
      "cell_type": "code",
      "metadata": {
        "id": "Ish_kXIFeL6G"
      },
      "source": [
        "pip install openpyxl"
      ],
      "execution_count": null,
      "outputs": []
    },
    {
      "cell_type": "code",
      "metadata": {
        "id": "6G3iHbGdeln8"
      },
      "source": [
        "#import all libraries\n",
        "import numpy as np\n",
        "import pandas as pd\n",
        "import datetime\n",
        "import timezonefinder, pytz\n",
        "\n",
        "tf = timezonefinder.TimezoneFinder()"
      ],
      "execution_count": 23,
      "outputs": []
    },
    {
      "cell_type": "code",
      "metadata": {
        "id": "lCbONR7nexj3"
      },
      "source": [
        "#read the file from URL\n",
        "url=\"https://ourairports.com/data/airports.csv\"\n",
        "df=pd.read_csv(url)"
      ],
      "execution_count": 6,
      "outputs": []
    },
    {
      "cell_type": "code",
      "metadata": {
        "id": "98B43A7Je97O"
      },
      "source": [
        "#take only airports having 3 digit IATA code , take requred columns,remove duplicates records\n",
        "is_valid =  df['iata_code'].astype(str).map(len)==3\n",
        "valid_airport=df[is_valid]\n",
        "valid_airport_new=valid_airport[['iso_region','iso_country','iata_code','latitude_deg','longitude_deg']]\n",
        "valid_airport_new=valid_airport_new.drop_duplicates()\n"
      ],
      "execution_count": 8,
      "outputs": []
    },
    {
      "cell_type": "code",
      "metadata": {
        "id": "L0cl4lMUfl9V"
      },
      "source": [
        "#check any duplicates\n",
        "valid_airport_new['iata_code'].value_counts()"
      ],
      "execution_count": null,
      "outputs": []
    },
    {
      "cell_type": "code",
      "metadata": {
        "id": "2gO98Ry_f04i"
      },
      "source": [
        "#keep only one records for each IATA code\n",
        "valid_airport_noduplicate = valid_airport_new.drop_duplicates(subset=['iata_code'])\n",
        "valid_airport_noduplicate['iata_code'].value_counts()>1"
      ],
      "execution_count": null,
      "outputs": []
    },
    {
      "cell_type": "code",
      "metadata": {
        "id": "bllzT2PIgFhq"
      },
      "source": [
        "#add new columns\n",
        "valid_airport_noduplicate[\"timezone\"] = str(np.nan)\n",
        "valid_airport_noduplicate[\"offsetseconds\"]=np.nan"
      ],
      "execution_count": null,
      "outputs": []
    },
    {
      "cell_type": "code",
      "metadata": {
        "id": "qfQoq1pOh1sK"
      },
      "source": [
        "valid_airport_noduplicate"
      ],
      "execution_count": null,
      "outputs": []
    },
    {
      "cell_type": "code",
      "metadata": {
        "id": "aKUj20EEiupk",
        "outputId": "dbc8766a-e4ac-4331-983d-65d8b14a8812",
        "colab": {
          "base_uri": "https://localhost:8080/",
          "height": 156
        }
      },
      "source": [
        "valid_airport_noduplicate.dtypes"
      ],
      "execution_count": 41,
      "outputs": [
        {
          "output_type": "execute_result",
          "data": {
            "text/plain": [
              "iso_region        object\n",
              "iso_country       object\n",
              "iata_code         object\n",
              "latitude_deg     float64\n",
              "longitude_deg    float64\n",
              "timezone         float64\n",
              "offsetseconds     object\n",
              "dtype: object"
            ]
          },
          "metadata": {
            "tags": []
          },
          "execution_count": 41
        }
      ]
    },
    {
      "cell_type": "code",
      "metadata": {
        "id": "BjEwiYYBgSak"
      },
      "source": [
        "#write function to update new columns\n",
        "def foo(df1):\n",
        "    tf = timezonefinder.TimezoneFinder()\n",
        "    for index, row in df1.iterrows():\n",
        "                                     #print(row['latitude_deg'], row['longitude_deg'])\n",
        "                                     timezone_str = tf.certain_timezone_at(lat=row['latitude_deg'], lng=row['longitude_deg'])\n",
        "                                     if timezone_str is None:\n",
        "                                     #                        print (\"Could not determine the time zone\")\n",
        "                                                              df1.at[index,'timezone'] = np.nan\n",
        "                                     else:\n",
        "                                          df1.at[index,'timezone'] = timezone_str\n",
        "                                          try :\n",
        "                                                timezone = pytz.timezone(timezone_str)\n",
        "                                                dt = datetime.datetime.utcnow()\n",
        "                                                df1.at[index,'offsetseconds'] =timezone.utcoffset(dt).total_seconds()\n",
        "                                          except :\n",
        "                                                  df1.at[index,'offsetseconds'] = np.nan\n",
        "                                          \n",
        "                                         # Display the current time in that time zone\n",
        "                                         #timezone = pytz.timezone(timezone_str)\n",
        "                                         #dt = datetime.datetime.utcnow()\n",
        "                                         #print (\"The time in %s is %s\" % (timezone_str, dt + timezone.utcoffset(dt)))\n",
        "    return(df1)"
      ],
      "execution_count": 43,
      "outputs": []
    },
    {
      "cell_type": "code",
      "metadata": {
        "id": "ctZ4C6wagqNi"
      },
      "source": [
        "airport_timezone=foo(valid_airport_noduplicate)"
      ],
      "execution_count": 44,
      "outputs": []
    },
    {
      "cell_type": "code",
      "metadata": {
        "id": "ESKibNguiXBD"
      },
      "source": [
        "airport_timezone"
      ],
      "execution_count": null,
      "outputs": []
    },
    {
      "cell_type": "code",
      "metadata": {
        "id": "UWxiccqyjdOf"
      },
      "source": [
        "#drop all NAN rows\n",
        "airport_timezone=airport_timezone.dropna()"
      ],
      "execution_count": 46,
      "outputs": []
    },
    {
      "cell_type": "code",
      "metadata": {
        "id": "Uijqc1ftjlDn"
      },
      "source": [
        "airport_timezone.to_excel('airport_timezone.xlsx') "
      ],
      "execution_count": 49,
      "outputs": []
    }
  ]
}