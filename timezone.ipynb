{
  "nbformat": 4,
  "nbformat_minor": 0,
  "metadata": {
    "colab": {
      "name": "timezone.ipynb",
      "provenance": [],
      "authorship_tag": "ABX9TyNlMtUZMd5CnrLe8WsFlfmu",
      "include_colab_link": true
    },
    "kernelspec": {
      "name": "python3",
      "display_name": "Python 3"
    }
  },
  "cells": [
    {
      "cell_type": "markdown",
      "metadata": {
        "id": "view-in-github",
        "colab_type": "text"
      },
      "source": [
        "<a href=\"https://colab.research.google.com/github/rizwannitk/airporttimezone/blob/main/timezone.ipynb\" target=\"_parent\"><img src=\"https://colab.research.google.com/assets/colab-badge.svg\" alt=\"Open In Colab\"/></a>"
      ]
    },
    {
      "cell_type": "markdown",
      "metadata": {
        "id": "CAdew_6TeaR3"
      },
      "source": [
        "To Get the timezone and offset of UTC time for Airports"
      ]
    },
    {
      "cell_type": "code",
      "metadata": {
        "id": "S7scDMCBd153"
      },
      "source": [
        "\n",
        "pip install timezonefinder"
      ],
      "execution_count": null,
      "outputs": []
    },
    {
      "cell_type": "code",
      "metadata": {
        "id": "Ish_kXIFeL6G"
      },
      "source": [
        "pip install openpyxl"
      ],
      "execution_count": null,
      "outputs": []
    },
    {
      "cell_type": "code",
      "metadata": {
        "id": "6G3iHbGdeln8"
      },
      "source": [
        "#import all libraries\n",
        "import numpy as np\n",
        "import pandas as pd\n"
      ],
      "execution_count": 5,
      "outputs": []
    },
    {
      "cell_type": "code",
      "metadata": {
        "id": "lCbONR7nexj3"
      },
      "source": [
        "#read the file from URL\n",
        "url=\"https://ourairports.com/data/airports.csv\"\n",
        "df=pd.read_csv(url)"
      ],
      "execution_count": 6,
      "outputs": []
    },
    {
      "cell_type": "code",
      "metadata": {
        "id": "98B43A7Je97O"
      },
      "source": [
        "#take only airports having 3 digit IATA code , take requred columns,remove duplicates records\n",
        "is_valid =  df['iata_code'].astype(str).map(len)==3\n",
        "valid_airport=df[is_valid]\n",
        "valid_airport_new=valid_airport[['iso_region','iso_country','iata_code','latitude_deg','longitude_deg']]\n",
        "valid_airport_new=valid_airport_new.drop_duplicates()\n"
      ],
      "execution_count": 8,
      "outputs": []
    },
    {
      "cell_type": "code",
      "metadata": {
        "id": "L0cl4lMUfl9V"
      },
      "source": [
        "#check any duplicates\n",
        "valid_airport_new['iata_code'].value_counts()"
      ],
      "execution_count": null,
      "outputs": []
    },
    {
      "cell_type": "code",
      "metadata": {
        "id": "2gO98Ry_f04i"
      },
      "source": [
        "#keep only one records for each IATA code\n",
        "valid_airport_noduplicate = valid_airport_new.drop_duplicates(subset=['iata_code'])\n",
        "valid_airport_noduplicate['iata_code'].value_counts()>1"
      ],
      "execution_count": null,
      "outputs": []
    },
    {
      "cell_type": "code",
      "metadata": {
        "id": "bllzT2PIgFhq"
      },
      "source": [
        "#add new columns\n",
        "valid_airport_noduplicate[\"timezone\"] = np.nan\n",
        "valid_airport_noduplicate[\"offsetseconds\"]=np.nan"
      ],
      "execution_count": null,
      "outputs": []
    },
    {
      "cell_type": "code",
      "metadata": {
        "id": "BjEwiYYBgSak"
      },
      "source": [
        ""
      ],
      "execution_count": null,
      "outputs": []
    }
  ]
}